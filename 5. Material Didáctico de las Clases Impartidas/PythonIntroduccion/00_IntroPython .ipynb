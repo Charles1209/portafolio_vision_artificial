{
 "cells": [
  {
   "cell_type": "markdown",
   "id": "zT7Ag-YwGSMl",
   "metadata": {
    "id": "zT7Ag-YwGSMl"
   },
   "source": [
    "# Introducción a Python ⛹"
   ]
  },
  {
   "cell_type": "code",
   "execution_count": 1,
   "id": "trying-gazette",
   "metadata": {
    "colab": {
     "base_uri": "https://localhost:8080/"
    },
    "executionInfo": {
     "elapsed": 182,
     "status": "ok",
     "timestamp": 1644856733225,
     "user": {
      "displayName": "Jose Carlos Rangel Ortiz",
      "photoUrl": "https://lh3.googleusercontent.com/a-/AOh14Ggge4eUIKsbmR7KqChn7sIdC7TPKob-A-VIDpXltg=s64",
      "userId": "00140065837683286122"
     },
     "user_tz": 300
    },
    "id": "trying-gazette",
    "outputId": "0092583c-4352-4752-f90c-85520599b8a3",
    "tags": []
   },
   "outputs": [
    {
     "data": {
      "text/plain": [
       "117"
      ]
     },
     "execution_count": 1,
     "metadata": {},
     "output_type": "execute_result"
    }
   ],
   "source": [
    "# Esto es una suma\n",
    "45 + 72"
   ]
  },
  {
   "cell_type": "markdown",
   "id": "nTHW9LTgFydb",
   "metadata": {
    "id": "nTHW9LTgFydb"
   },
   "source": [
    "# Rango1\n",
    "## Rango2 \n",
    "### Rango3\n",
    "#### Rango4"
   ]
  },
  {
   "cell_type": "code",
   "execution_count": 2,
   "id": "amended-seven",
   "metadata": {
    "id": "amended-seven",
    "tags": []
   },
   "outputs": [],
   "source": [
    "x = 7"
   ]
  },
  {
   "cell_type": "code",
   "execution_count": 3,
   "id": "iraqi-platform",
   "metadata": {
    "id": "iraqi-platform",
    "tags": []
   },
   "outputs": [],
   "source": [
    "y = 3 "
   ]
  },
  {
   "cell_type": "code",
   "execution_count": 4,
   "id": "exceptional-dylan",
   "metadata": {
    "colab": {
     "base_uri": "https://localhost:8080/"
    },
    "executionInfo": {
     "elapsed": 174,
     "status": "ok",
     "timestamp": 1644856522035,
     "user": {
      "displayName": "Jose Carlos Rangel Ortiz",
      "photoUrl": "https://lh3.googleusercontent.com/a-/AOh14Ggge4eUIKsbmR7KqChn7sIdC7TPKob-A-VIDpXltg=s64",
      "userId": "00140065837683286122"
     },
     "user_tz": 300
    },
    "id": "exceptional-dylan",
    "outputId": "cf8eb025-4867-42fc-cf04-19a0bcee9237"
   },
   "outputs": [
    {
     "data": {
      "text/plain": [
       "10"
      ]
     },
     "execution_count": 4,
     "metadata": {},
     "output_type": "execute_result"
    }
   ],
   "source": [
    "x + y"
   ]
  },
  {
   "cell_type": "code",
   "execution_count": 5,
   "id": "included-niger",
   "metadata": {
    "id": "included-niger"
   },
   "outputs": [],
   "source": [
    "total = x + y"
   ]
  },
  {
   "cell_type": "code",
   "execution_count": 6,
   "id": "further-opening",
   "metadata": {
    "colab": {
     "base_uri": "https://localhost:8080/"
    },
    "executionInfo": {
     "elapsed": 175,
     "status": "ok",
     "timestamp": 1644856531681,
     "user": {
      "displayName": "Jose Carlos Rangel Ortiz",
      "photoUrl": "https://lh3.googleusercontent.com/a-/AOh14Ggge4eUIKsbmR7KqChn7sIdC7TPKob-A-VIDpXltg=s64",
      "userId": "00140065837683286122"
     },
     "user_tz": 300
    },
    "id": "further-opening",
    "outputId": "a49b1217-5091-41f8-d5fb-e47fe574e8a3"
   },
   "outputs": [
    {
     "data": {
      "text/plain": [
       "10"
      ]
     },
     "execution_count": 6,
     "metadata": {},
     "output_type": "execute_result"
    }
   ],
   "source": [
    "total"
   ]
  },
  {
   "cell_type": "markdown",
   "id": "wanted-resort",
   "metadata": {
    "id": "wanted-resort"
   },
   "source": [
    "### Multiplicación (`*`)"
   ]
  },
  {
   "cell_type": "code",
   "execution_count": 7,
   "id": "angry-turner",
   "metadata": {
    "id": "angry-turner"
   },
   "outputs": [
    {
     "data": {
      "text/plain": [
       "28"
      ]
     },
     "execution_count": 7,
     "metadata": {},
     "output_type": "execute_result"
    }
   ],
   "source": [
    "7*4"
   ]
  },
  {
   "cell_type": "markdown",
   "id": "surprised-cooking",
   "metadata": {
    "id": "surprised-cooking"
   },
   "source": [
    "### Potenciación (`**`)"
   ]
  },
  {
   "cell_type": "code",
   "execution_count": 8,
   "id": "adjustable-exclusion",
   "metadata": {
    "id": "adjustable-exclusion",
    "outputId": "45e6c552-d9fa-4f7e-e35e-965de8dbaed2"
   },
   "outputs": [
    {
     "data": {
      "text/plain": [
       "1024"
      ]
     },
     "execution_count": 8,
     "metadata": {},
     "output_type": "execute_result"
    }
   ],
   "source": [
    "2**10"
   ]
  },
  {
   "cell_type": "code",
   "execution_count": 9,
   "id": "stuck-privacy",
   "metadata": {
    "id": "stuck-privacy",
    "outputId": "1ecf7589-60a7-4a7f-b57f-95402d45fc91"
   },
   "outputs": [
    {
     "data": {
      "text/plain": [
       "3.0"
      ]
     },
     "execution_count": 9,
     "metadata": {},
     "output_type": "execute_result"
    }
   ],
   "source": [
    "9**(1/2)"
   ]
  },
  {
   "cell_type": "markdown",
   "id": "completed-infrared",
   "metadata": {
    "id": "completed-infrared"
   },
   "source": [
    "### División (`/`)"
   ]
  },
  {
   "cell_type": "code",
   "execution_count": 10,
   "id": "rapid-sydney",
   "metadata": {
    "id": "rapid-sydney",
    "outputId": "e2f0efb9-2f28-4584-c497-4453c606bcf9"
   },
   "outputs": [
    {
     "data": {
      "text/plain": [
       "3.5"
      ]
     },
     "execution_count": 10,
     "metadata": {},
     "output_type": "execute_result"
    }
   ],
   "source": [
    "7/2"
   ]
  },
  {
   "cell_type": "markdown",
   "id": "former-luxembourg",
   "metadata": {
    "id": "former-luxembourg"
   },
   "source": [
    "### División Entera (`//`)"
   ]
  },
  {
   "cell_type": "code",
   "execution_count": 11,
   "id": "damaged-investigation",
   "metadata": {
    "id": "damaged-investigation",
    "outputId": "7f4c8081-15e6-4780-d27a-90e399b1b7f0"
   },
   "outputs": [
    {
     "data": {
      "text/plain": [
       "3"
      ]
     },
     "execution_count": 11,
     "metadata": {},
     "output_type": "execute_result"
    }
   ],
   "source": [
    "7//2"
   ]
  },
  {
   "cell_type": "markdown",
   "id": "unusual-distinction",
   "metadata": {
    "id": "unusual-distinction"
   },
   "source": [
    "### Módulo (`%`)"
   ]
  },
  {
   "cell_type": "code",
   "execution_count": 12,
   "id": "massive-belief",
   "metadata": {
    "colab": {
     "base_uri": "https://localhost:8080/"
    },
    "executionInfo": {
     "elapsed": 185,
     "status": "ok",
     "timestamp": 1644856821914,
     "user": {
      "displayName": "Jose Carlos Rangel Ortiz",
      "photoUrl": "https://lh3.googleusercontent.com/a-/AOh14Ggge4eUIKsbmR7KqChn7sIdC7TPKob-A-VIDpXltg=s64",
      "userId": "00140065837683286122"
     },
     "user_tz": 300
    },
    "id": "massive-belief",
    "outputId": "e3558a9e-48cf-4140-ac97-571878778396"
   },
   "outputs": [
    {
     "data": {
      "text/plain": [
       "2"
      ]
     },
     "execution_count": 12,
     "metadata": {},
     "output_type": "execute_result"
    }
   ],
   "source": [
    "17 % 5"
   ]
  },
  {
   "cell_type": "markdown",
   "id": "anonymous-external",
   "metadata": {
    "id": "anonymous-external"
   },
   "source": [
    "### Imprimir por pantalla"
   ]
  },
  {
   "cell_type": "code",
   "execution_count": 13,
   "id": "choice-curve",
   "metadata": {
    "id": "choice-curve",
    "outputId": "4afcd02d-7896-48ea-e2a3-317879a36d8f"
   },
   "outputs": [
    {
     "name": "stdout",
     "output_type": "stream",
     "text": [
      "Aloha Mundo desde Python!\n"
     ]
    }
   ],
   "source": [
    "print('Aloha Mundo desde Python!')"
   ]
  },
  {
   "cell_type": "code",
   "execution_count": 14,
   "id": "similar-architect",
   "metadata": {
    "colab": {
     "base_uri": "https://localhost:8080/"
    },
    "executionInfo": {
     "elapsed": 219,
     "status": "ok",
     "timestamp": 1644856912993,
     "user": {
      "displayName": "Jose Carlos Rangel Ortiz",
      "photoUrl": "https://lh3.googleusercontent.com/a-/AOh14Ggge4eUIKsbmR7KqChn7sIdC7TPKob-A-VIDpXltg=s64",
      "userId": "00140065837683286122"
     },
     "user_tz": 300
    },
    "id": "similar-architect",
    "outputId": "602a4c92-52a6-4a35-b66a-3fd101314abe"
   },
   "outputs": [
    {
     "name": "stdout",
     "output_type": "stream",
     "text": [
      "La Suma es 10\n"
     ]
    }
   ],
   "source": [
    "print('La Suma es', 7 + 3)"
   ]
  },
  {
   "cell_type": "code",
   "execution_count": 15,
   "id": "accessible-logan",
   "metadata": {
    "colab": {
     "base_uri": "https://localhost:8080/"
    },
    "executionInfo": {
     "elapsed": 169,
     "status": "ok",
     "timestamp": 1644856973734,
     "user": {
      "displayName": "Jose Carlos Rangel Ortiz",
      "photoUrl": "https://lh3.googleusercontent.com/a-/AOh14Ggge4eUIKsbmR7KqChn7sIdC7TPKob-A-VIDpXltg=s64",
      "userId": "00140065837683286122"
     },
     "user_tz": 300
    },
    "id": "accessible-logan",
    "outputId": "9a6ec7c1-51f3-48e5-9169-024c65d799a7"
   },
   "outputs": [
    {
     "name": "stdout",
     "output_type": "stream",
     "text": [
      "10 km 20 km 30 km 0\n"
     ]
    }
   ],
   "source": [
    "# Especificar un separador de elementos\n",
    "print(10, 20, 30, 0, sep=' km ')"
   ]
  },
  {
   "cell_type": "code",
   "execution_count": 16,
   "id": "shaped-phase",
   "metadata": {
    "colab": {
     "base_uri": "https://localhost:8080/"
    },
    "executionInfo": {
     "elapsed": 163,
     "status": "ok",
     "timestamp": 1644857087898,
     "user": {
      "displayName": "Jose Carlos Rangel Ortiz",
      "photoUrl": "https://lh3.googleusercontent.com/a-/AOh14Ggge4eUIKsbmR7KqChn7sIdC7TPKob-A-VIDpXltg=s64",
      "userId": "00140065837683286122"
     },
     "user_tz": 300
    },
    "id": "shaped-phase",
    "outputId": "e14b897f-89e5-4a84-88ce-e98700518534"
   },
   "outputs": [
    {
     "name": "stdout",
     "output_type": "stream",
     "text": [
      "Su saldo actual es: 1475.9\n"
     ]
    }
   ],
   "source": [
    "amount = 1475.87\n",
    "print(f'Su saldo actual es: {amount:.1f}')"
   ]
  },
  {
   "cell_type": "markdown",
   "id": "italic-british",
   "metadata": {
    "id": "italic-british"
   },
   "source": [
    "### Entrada del usuario"
   ]
  },
  {
   "cell_type": "code",
   "execution_count": 17,
   "id": "quick-friend",
   "metadata": {
    "colab": {
     "base_uri": "https://localhost:8080/"
    },
    "executionInfo": {
     "elapsed": 12442,
     "status": "ok",
     "timestamp": 1644857132482,
     "user": {
      "displayName": "Jose Carlos Rangel Ortiz",
      "photoUrl": "https://lh3.googleusercontent.com/a-/AOh14Ggge4eUIKsbmR7KqChn7sIdC7TPKob-A-VIDpXltg=s64",
      "userId": "00140065837683286122"
     },
     "user_tz": 300
    },
    "id": "quick-friend",
    "outputId": "79055cf7-8c9d-4c0a-f7fc-ce4045dca8dc"
   },
   "outputs": [
    {
     "name": "stdout",
     "output_type": "stream",
     "text": [
      "¿Como te llamas? fff\n"
     ]
    }
   ],
   "source": [
    "name = input(\"¿Como te llamas? \")"
   ]
  },
  {
   "cell_type": "code",
   "execution_count": 18,
   "id": "resident-warning",
   "metadata": {
    "colab": {
     "base_uri": "https://localhost:8080/"
    },
    "executionInfo": {
     "elapsed": 14,
     "status": "ok",
     "timestamp": 1644857132483,
     "user": {
      "displayName": "Jose Carlos Rangel Ortiz",
      "photoUrl": "https://lh3.googleusercontent.com/a-/AOh14Ggge4eUIKsbmR7KqChn7sIdC7TPKob-A-VIDpXltg=s64",
      "userId": "00140065837683286122"
     },
     "user_tz": 300
    },
    "id": "resident-warning",
    "outputId": "e8be3887-c22f-40d0-bfc8-dce1a22414a5"
   },
   "outputs": [
    {
     "name": "stdout",
     "output_type": "stream",
     "text": [
      "fff\n"
     ]
    }
   ],
   "source": [
    "print(name)"
   ]
  },
  {
   "cell_type": "code",
   "execution_count": 19,
   "id": "boolean-advertising",
   "metadata": {
    "colab": {
     "base_uri": "https://localhost:8080/"
    },
    "executionInfo": {
     "elapsed": 8566,
     "status": "ok",
     "timestamp": 1644857141044,
     "user": {
      "displayName": "Jose Carlos Rangel Ortiz",
      "photoUrl": "https://lh3.googleusercontent.com/a-/AOh14Ggge4eUIKsbmR7KqChn7sIdC7TPKob-A-VIDpXltg=s64",
      "userId": "00140065837683286122"
     },
     "user_tz": 300
    },
    "id": "boolean-advertising",
    "outputId": "f03f1b01-ad58-4ba7-f0b7-e9792ff157e7"
   },
   "outputs": [
    {
     "name": "stdout",
     "output_type": "stream",
     "text": [
      "Ingrese un entero: 12\n"
     ]
    }
   ],
   "source": [
    "value = input('Ingrese un entero: ')"
   ]
  },
  {
   "cell_type": "code",
   "execution_count": 20,
   "id": "optional-hobby",
   "metadata": {
    "id": "optional-hobby"
   },
   "outputs": [],
   "source": [
    "value = int(value)"
   ]
  },
  {
   "cell_type": "code",
   "execution_count": 21,
   "id": "christian-portable",
   "metadata": {
    "colab": {
     "base_uri": "https://localhost:8080/"
    },
    "executionInfo": {
     "elapsed": 18,
     "status": "ok",
     "timestamp": 1644857141048,
     "user": {
      "displayName": "Jose Carlos Rangel Ortiz",
      "photoUrl": "https://lh3.googleusercontent.com/a-/AOh14Ggge4eUIKsbmR7KqChn7sIdC7TPKob-A-VIDpXltg=s64",
      "userId": "00140065837683286122"
     },
     "user_tz": 300
    },
    "id": "christian-portable",
    "outputId": "c5f20441-600b-47ef-9030-a8d433d678f9"
   },
   "outputs": [
    {
     "data": {
      "text/plain": [
       "12"
      ]
     },
     "execution_count": 21,
     "metadata": {},
     "output_type": "execute_result"
    }
   ],
   "source": [
    "value"
   ]
  },
  {
   "cell_type": "markdown",
   "id": "original-colonial",
   "metadata": {
    "id": "original-colonial"
   },
   "source": [
    "### Comparaciones"
   ]
  },
  {
   "cell_type": "code",
   "execution_count": 22,
   "id": "aboriginal-merit",
   "metadata": {
    "id": "aboriginal-merit",
    "outputId": "da36f8a5-f0a9-4a41-ce8b-bb366f759743"
   },
   "outputs": [
    {
     "data": {
      "text/plain": [
       "False"
      ]
     },
     "execution_count": 22,
     "metadata": {},
     "output_type": "execute_result"
    }
   ],
   "source": [
    "x = 10\n",
    "1 <= x <= 5"
   ]
  },
  {
   "cell_type": "code",
   "execution_count": 23,
   "id": "persistent-white",
   "metadata": {
    "id": "persistent-white"
   },
   "outputs": [],
   "source": [
    "### Determinar Máximo y Mínimo"
   ]
  },
  {
   "cell_type": "code",
   "execution_count": 24,
   "id": "concrete-substance",
   "metadata": {
    "colab": {
     "base_uri": "https://localhost:8080/"
    },
    "executionInfo": {
     "elapsed": 209,
     "status": "ok",
     "timestamp": 1644857171443,
     "user": {
      "displayName": "Jose Carlos Rangel Ortiz",
      "photoUrl": "https://lh3.googleusercontent.com/a-/AOh14Ggge4eUIKsbmR7KqChn7sIdC7TPKob-A-VIDpXltg=s64",
      "userId": "00140065837683286122"
     },
     "user_tz": 300
    },
    "id": "concrete-substance",
    "outputId": "fec51476-4b42-4075-e3f2-2b7d5403bc26"
   },
   "outputs": [
    {
     "data": {
      "text/plain": [
       "12"
      ]
     },
     "execution_count": 24,
     "metadata": {},
     "output_type": "execute_result"
    }
   ],
   "source": [
    "min(36, 27, 12)"
   ]
  },
  {
   "cell_type": "code",
   "execution_count": 25,
   "id": "judicial-swedish",
   "metadata": {
    "colab": {
     "base_uri": "https://localhost:8080/"
    },
    "executionInfo": {
     "elapsed": 209,
     "status": "ok",
     "timestamp": 1644857172397,
     "user": {
      "displayName": "Jose Carlos Rangel Ortiz",
      "photoUrl": "https://lh3.googleusercontent.com/a-/AOh14Ggge4eUIKsbmR7KqChn7sIdC7TPKob-A-VIDpXltg=s64",
      "userId": "00140065837683286122"
     },
     "user_tz": 300
    },
    "id": "judicial-swedish",
    "outputId": "77b8659e-531f-4467-b72c-9d416d7f8cb0"
   },
   "outputs": [
    {
     "data": {
      "text/plain": [
       "36"
      ]
     },
     "execution_count": 25,
     "metadata": {},
     "output_type": "execute_result"
    }
   ],
   "source": [
    "max(36, 27, 12)"
   ]
  },
  {
   "cell_type": "markdown",
   "id": "lined-liberty",
   "metadata": {
    "id": "lined-liberty"
   },
   "source": [
    "### Sentencia `if`"
   ]
  },
  {
   "cell_type": "code",
   "execution_count": 26,
   "id": "upper-signature",
   "metadata": {
    "id": "upper-signature"
   },
   "outputs": [],
   "source": [
    "grade = 85"
   ]
  },
  {
   "cell_type": "code",
   "execution_count": 27,
   "id": "thousand-divide",
   "metadata": {
    "colab": {
     "base_uri": "https://localhost:8080/"
    },
    "executionInfo": {
     "elapsed": 11,
     "status": "ok",
     "timestamp": 1644857319602,
     "user": {
      "displayName": "Jose Carlos Rangel Ortiz",
      "photoUrl": "https://lh3.googleusercontent.com/a-/AOh14Ggge4eUIKsbmR7KqChn7sIdC7TPKob-A-VIDpXltg=s64",
      "userId": "00140065837683286122"
     },
     "user_tz": 300
    },
    "id": "thousand-divide",
    "outputId": "861b519e-aaec-4bed-af05-594df700f3d9"
   },
   "outputs": [
    {
     "name": "stdout",
     "output_type": "stream",
     "text": [
      "Passed\n"
     ]
    }
   ],
   "source": [
    "if grade >= 60:\n",
    "    print('Passed')"
   ]
  },
  {
   "cell_type": "code",
   "execution_count": 28,
   "id": "elder-encounter",
   "metadata": {
    "colab": {
     "base_uri": "https://localhost:8080/",
     "height": 131
    },
    "executionInfo": {
     "elapsed": 198,
     "status": "error",
     "timestamp": 1644857328806,
     "user": {
      "displayName": "Jose Carlos Rangel Ortiz",
      "photoUrl": "https://lh3.googleusercontent.com/a-/AOh14Ggge4eUIKsbmR7KqChn7sIdC7TPKob-A-VIDpXltg=s64",
      "userId": "00140065837683286122"
     },
     "user_tz": 300
    },
    "id": "elder-encounter",
    "outputId": "39fd5dcd-86ba-4c77-a59d-bc46d19180de"
   },
   "outputs": [
    {
     "name": "stdout",
     "output_type": "stream",
     "text": [
      "Passed\n"
     ]
    }
   ],
   "source": [
    "if grade >= 60:\n",
    "    print('Passed')  # identación incorrecta"
   ]
  },
  {
   "cell_type": "code",
   "execution_count": 29,
   "id": "crude-invitation",
   "metadata": {
    "id": "crude-invitation"
   },
   "outputs": [],
   "source": [
    "grade = 87"
   ]
  },
  {
   "cell_type": "code",
   "execution_count": 30,
   "id": "driven-racing",
   "metadata": {
    "colab": {
     "base_uri": "https://localhost:8080/"
    },
    "executionInfo": {
     "elapsed": 193,
     "status": "ok",
     "timestamp": 1644857360103,
     "user": {
      "displayName": "Jose Carlos Rangel Ortiz",
      "photoUrl": "https://lh3.googleusercontent.com/a-/AOh14Ggge4eUIKsbmR7KqChn7sIdC7TPKob-A-VIDpXltg=s64",
      "userId": "00140065837683286122"
     },
     "user_tz": 300
    },
    "id": "driven-racing",
    "outputId": "4099ef5f-2a64-4f07-ff4d-9476ca6049fc"
   },
   "outputs": [
    {
     "name": "stdout",
     "output_type": "stream",
     "text": [
      "Aprobado\n"
     ]
    }
   ],
   "source": [
    "if grade >= 60: \n",
    "    print('Aprobado')\n",
    "else:\n",
    "    print('Reprobado')"
   ]
  },
  {
   "cell_type": "code",
   "execution_count": 31,
   "id": "proved-portuguese",
   "metadata": {
    "id": "proved-portuguese"
   },
   "outputs": [],
   "source": [
    "result = ('Aprobado' if grade >= 60 else 'Reprobado')"
   ]
  },
  {
   "cell_type": "code",
   "execution_count": 32,
   "id": "bridal-preparation",
   "metadata": {
    "id": "bridal-preparation",
    "outputId": "ffabf363-3874-4860-8962-b4584b6d0ed8"
   },
   "outputs": [
    {
     "data": {
      "text/plain": [
       "'Aprobado'"
      ]
     },
     "execution_count": 32,
     "metadata": {},
     "output_type": "execute_result"
    }
   ],
   "source": [
    "result"
   ]
  },
  {
   "cell_type": "code",
   "execution_count": 33,
   "id": "oriented-latter",
   "metadata": {
    "id": "oriented-latter",
    "outputId": "00726b8d-747f-4d63-a71b-48bac1826468"
   },
   "outputs": [
    {
     "name": "stdout",
     "output_type": "stream",
     "text": [
      "B\n"
     ]
    }
   ],
   "source": [
    "if grade >= 90:\n",
    "    print('A')\n",
    "elif grade >= 80:\n",
    "    print('B')\n",
    "elif grade >= 70:\n",
    "    print('C')\n",
    "elif grade >= 60:\n",
    "    print('D')\n",
    "else:\n",
    "    print('F')"
   ]
  },
  {
   "cell_type": "markdown",
   "id": "dressed-hamilton",
   "metadata": {
    "id": "dressed-hamilton"
   },
   "source": [
    "### Sentencia `while`"
   ]
  },
  {
   "cell_type": "code",
   "execution_count": 34,
   "id": "controlling-visit",
   "metadata": {
    "id": "controlling-visit"
   },
   "outputs": [],
   "source": [
    "product = 3"
   ]
  },
  {
   "cell_type": "code",
   "execution_count": 35,
   "id": "champion-poster",
   "metadata": {
    "colab": {
     "base_uri": "https://localhost:8080/"
    },
    "executionInfo": {
     "elapsed": 170,
     "status": "ok",
     "timestamp": 1644857516713,
     "user": {
      "displayName": "Jose Carlos Rangel Ortiz",
      "photoUrl": "https://lh3.googleusercontent.com/a-/AOh14Ggge4eUIKsbmR7KqChn7sIdC7TPKob-A-VIDpXltg=s64",
      "userId": "00140065837683286122"
     },
     "user_tz": 300
    },
    "id": "champion-poster",
    "outputId": "21707860-d7bf-40be-92b0-f9bbc5844977"
   },
   "outputs": [
    {
     "name": "stdout",
     "output_type": "stream",
     "text": [
      "9\n",
      "27\n",
      "81\n"
     ]
    }
   ],
   "source": [
    "while product <= 50:\n",
    "    product = product * 3 \n",
    "    print(product)\n",
    "\n"
   ]
  },
  {
   "cell_type": "code",
   "execution_count": 36,
   "id": "entitled-structure",
   "metadata": {
    "colab": {
     "base_uri": "https://localhost:8080/"
    },
    "executionInfo": {
     "elapsed": 159,
     "status": "ok",
     "timestamp": 1644857523657,
     "user": {
      "displayName": "Jose Carlos Rangel Ortiz",
      "photoUrl": "https://lh3.googleusercontent.com/a-/AOh14Ggge4eUIKsbmR7KqChn7sIdC7TPKob-A-VIDpXltg=s64",
      "userId": "00140065837683286122"
     },
     "user_tz": 300
    },
    "id": "entitled-structure",
    "outputId": "eeb3c437-a16f-42bc-958e-6f05c9ee691d"
   },
   "outputs": [
    {
     "data": {
      "text/plain": [
       "81"
      ]
     },
     "execution_count": 36,
     "metadata": {},
     "output_type": "execute_result"
    }
   ],
   "source": [
    "product"
   ]
  },
  {
   "cell_type": "markdown",
   "id": "greenhouse-darwin",
   "metadata": {
    "id": "greenhouse-darwin"
   },
   "source": [
    "### Sentencia `for`"
   ]
  },
  {
   "cell_type": "code",
   "execution_count": 37,
   "id": "geological-ancient",
   "metadata": {
    "colab": {
     "base_uri": "https://localhost:8080/"
    },
    "executionInfo": {
     "elapsed": 178,
     "status": "ok",
     "timestamp": 1644857621405,
     "user": {
      "displayName": "Jose Carlos Rangel Ortiz",
      "photoUrl": "https://lh3.googleusercontent.com/a-/AOh14Ggge4eUIKsbmR7KqChn7sIdC7TPKob-A-VIDpXltg=s64",
      "userId": "00140065837683286122"
     },
     "user_tz": 300
    },
    "id": "geological-ancient",
    "outputId": "0dc47326-95a1-41cc-88b8-63ce8740fb6c"
   },
   "outputs": [
    {
     "name": "stdout",
     "output_type": "stream",
     "text": [
      "Pkm rkm okm gkm rkm akm mkm mkm ikm nkm gkm "
     ]
    }
   ],
   "source": [
    "for character in 'Programming':\n",
    "    print(character, end='km ')"
   ]
  },
  {
   "cell_type": "markdown",
   "id": "fresh-mortgage",
   "metadata": {
    "id": "fresh-mortgage"
   },
   "source": [
    "### Iterables, listas e Iteradores"
   ]
  },
  {
   "cell_type": "code",
   "execution_count": 1,
   "id": "young-economy",
   "metadata": {
    "id": "young-economy"
   },
   "outputs": [],
   "source": [
    "total = 0"
   ]
  },
  {
   "cell_type": "code",
   "execution_count": 2,
   "id": "alpine-california",
   "metadata": {
    "id": "alpine-california"
   },
   "outputs": [
    {
     "name": "stdout",
     "output_type": "stream",
     "text": [
      "2\n",
      "-1\n",
      "-1\n",
      "16\n",
      "25\n"
     ]
    }
   ],
   "source": [
    "for number in [2, -3, 0, 17, 9]:\n",
    "    total = total + number\n",
    "    print(total)"
   ]
  },
  {
   "cell_type": "markdown",
   "id": "handy-terrace",
   "metadata": {
    "id": "handy-terrace"
   },
   "source": [
    "### `for` basado en rango"
   ]
  },
  {
   "cell_type": "code",
   "execution_count": 4,
   "id": "comprehensive-accommodation",
   "metadata": {
    "colab": {
     "base_uri": "https://localhost:8080/"
    },
    "executionInfo": {
     "elapsed": 176,
     "status": "ok",
     "timestamp": 1644857731360,
     "user": {
      "displayName": "Jose Carlos Rangel Ortiz",
      "photoUrl": "https://lh3.googleusercontent.com/a-/AOh14Ggge4eUIKsbmR7KqChn7sIdC7TPKob-A-VIDpXltg=s64",
      "userId": "00140065837683286122"
     },
     "user_tz": 300
    },
    "id": "comprehensive-accommodation",
    "outputId": "f7219bc4-0214-4058-d28e-56638ecec08e"
   },
   "outputs": [
    {
     "name": "stdout",
     "output_type": "stream",
     "text": [
      "0 1 2 3 4 5 6 7 8 9 "
     ]
    }
   ],
   "source": [
    "for counter in range(10):\n",
    "    print(counter, end=' ')"
   ]
  },
  {
   "cell_type": "code",
   "execution_count": 3,
   "id": "urban-quick",
   "metadata": {
    "colab": {
     "base_uri": "https://localhost:8080/"
    },
    "executionInfo": {
     "elapsed": 177,
     "status": "ok",
     "timestamp": 1644857777782,
     "user": {
      "displayName": "Jose Carlos Rangel Ortiz",
      "photoUrl": "https://lh3.googleusercontent.com/a-/AOh14Ggge4eUIKsbmR7KqChn7sIdC7TPKob-A-VIDpXltg=s64",
      "userId": "00140065837683286122"
     },
     "user_tz": 300
    },
    "id": "urban-quick",
    "outputId": "adcbdfe4-6b15-4ba0-ac59-68dfac0185ab"
   },
   "outputs": [
    {
     "name": "stdout",
     "output_type": "stream",
     "text": [
      "5\n",
      "6\n",
      "7\n",
      "8\n",
      "9\n"
     ]
    }
   ],
   "source": [
    "# Definir rango\n",
    "for number in range(5, 10):\n",
    "    print(number, end='\\n')"
   ]
  },
  {
   "cell_type": "code",
   "execution_count": 5,
   "id": "aerial-situation",
   "metadata": {
    "colab": {
     "base_uri": "https://localhost:8080/"
    },
    "executionInfo": {
     "elapsed": 175,
     "status": "ok",
     "timestamp": 1644857822045,
     "user": {
      "displayName": "Jose Carlos Rangel Ortiz",
      "photoUrl": "https://lh3.googleusercontent.com/a-/AOh14Ggge4eUIKsbmR7KqChn7sIdC7TPKob-A-VIDpXltg=s64",
      "userId": "00140065837683286122"
     },
     "user_tz": 300
    },
    "id": "aerial-situation",
    "outputId": "960cb7fe-6a66-47b9-d739-0ab6540879a1"
   },
   "outputs": [
    {
     "name": "stdout",
     "output_type": "stream",
     "text": [
      "0 500 1000 1500 2000 2500 3000 3500 4000 4500 5000 5500 6000 6500 7000 7500 8000 8500 "
     ]
    }
   ],
   "source": [
    "# Avanzar de 500 en 500 \n",
    "for number in range(0, 9000, 500):\n",
    "    print(number, end=' ')"
   ]
  },
  {
   "cell_type": "code",
   "execution_count": 43,
   "id": "pressing-ticket",
   "metadata": {
    "colab": {
     "base_uri": "https://localhost:8080/"
    },
    "executionInfo": {
     "elapsed": 168,
     "status": "ok",
     "timestamp": 1644857861659,
     "user": {
      "displayName": "Jose Carlos Rangel Ortiz",
      "photoUrl": "https://lh3.googleusercontent.com/a-/AOh14Ggge4eUIKsbmR7KqChn7sIdC7TPKob-A-VIDpXltg=s64",
      "userId": "00140065837683286122"
     },
     "user_tz": 300
    },
    "id": "pressing-ticket",
    "outputId": "eb7a14df-9627-431a-cc50-549cf709783a"
   },
   "outputs": [
    {
     "name": "stdout",
     "output_type": "stream",
     "text": [
      "10 8 6 4 2 "
     ]
    }
   ],
   "source": [
    "# Avanzar de 2 en 2 en reversa\n",
    "for number in range(10, 0, -2):\n",
    "    print(number, end=' ')"
   ]
  },
  {
   "cell_type": "code",
   "execution_count": 44,
   "id": "weekly-marathon",
   "metadata": {
    "colab": {
     "base_uri": "https://localhost:8080/"
    },
    "executionInfo": {
     "elapsed": 173,
     "status": "ok",
     "timestamp": 1644857922402,
     "user": {
      "displayName": "Jose Carlos Rangel Ortiz",
      "photoUrl": "https://lh3.googleusercontent.com/a-/AOh14Ggge4eUIKsbmR7KqChn7sIdC7TPKob-A-VIDpXltg=s64",
      "userId": "00140065837683286122"
     },
     "user_tz": 300
    },
    "id": "weekly-marathon",
    "outputId": "33940137-b095-4aa5-a2cf-febeb4dc3f23"
   },
   "outputs": [
    {
     "name": "stdout",
     "output_type": "stream",
     "text": [
      "0 1 2 3 4 "
     ]
    }
   ],
   "source": [
    "for number in range(100):\n",
    "    if number == 5:\n",
    "        break\n",
    "    print(number, end=' ')"
   ]
  },
  {
   "cell_type": "code",
   "execution_count": 45,
   "id": "loving-mattress",
   "metadata": {
    "id": "loving-mattress",
    "outputId": "9465a50d-8b6f-477b-b9ea-e01c10c612f8"
   },
   "outputs": [
    {
     "name": "stdout",
     "output_type": "stream",
     "text": [
      "0 1 2 3 4 6 7 8 9 "
     ]
    }
   ],
   "source": [
    "for number in range(10):\n",
    "    if number == 5:\n",
    "        continue\n",
    "    print(number, end=' ')"
   ]
  },
  {
   "cell_type": "markdown",
   "id": "dutch-astrology",
   "metadata": {
    "id": "dutch-astrology"
   },
   "source": [
    "### Operador `not`"
   ]
  },
  {
   "cell_type": "code",
   "execution_count": 46,
   "id": "normal-design",
   "metadata": {
    "id": "normal-design"
   },
   "outputs": [],
   "source": [
    "nota = 98"
   ]
  },
  {
   "cell_type": "code",
   "execution_count": 47,
   "id": "increased-stylus",
   "metadata": {
    "id": "increased-stylus",
    "outputId": "92817782-f041-44b0-e34d-4f29f67972b3"
   },
   "outputs": [
    {
     "name": "stdout",
     "output_type": "stream",
     "text": [
      "La siguiente nota es 98\n"
     ]
    }
   ],
   "source": [
    "if not nota == -1:\n",
    "   print('La siguiente nota es', nota)"
   ]
  },
  {
   "cell_type": "markdown",
   "id": "binary-classification",
   "metadata": {
    "id": "binary-classification"
   },
   "source": [
    "### Librería `statistics`"
   ]
  },
  {
   "cell_type": "code",
   "execution_count": 48,
   "id": "three-discrimination",
   "metadata": {
    "id": "three-discrimination"
   },
   "outputs": [],
   "source": [
    "import statistics"
   ]
  },
  {
   "cell_type": "code",
   "execution_count": 49,
   "id": "moderate-portsmouth",
   "metadata": {
    "id": "moderate-portsmouth"
   },
   "outputs": [],
   "source": [
    "grades = [85, 93, 45, 89, 85]"
   ]
  },
  {
   "cell_type": "code",
   "execution_count": 50,
   "id": "fallen-roman",
   "metadata": {
    "colab": {
     "base_uri": "https://localhost:8080/"
    },
    "executionInfo": {
     "elapsed": 205,
     "status": "ok",
     "timestamp": 1644857984488,
     "user": {
      "displayName": "Jose Carlos Rangel Ortiz",
      "photoUrl": "https://lh3.googleusercontent.com/a-/AOh14Ggge4eUIKsbmR7KqChn7sIdC7TPKob-A-VIDpXltg=s64",
      "userId": "00140065837683286122"
     },
     "user_tz": 300
    },
    "id": "fallen-roman",
    "outputId": "2806bcc3-aee7-47ec-b94b-3525c1f71d43"
   },
   "outputs": [
    {
     "data": {
      "text/plain": [
       "79.4"
      ]
     },
     "execution_count": 50,
     "metadata": {},
     "output_type": "execute_result"
    }
   ],
   "source": [
    "sum(grades) / len(grades)"
   ]
  },
  {
   "cell_type": "code",
   "execution_count": 51,
   "id": "handy-bailey",
   "metadata": {
    "colab": {
     "base_uri": "https://localhost:8080/"
    },
    "executionInfo": {
     "elapsed": 177,
     "status": "ok",
     "timestamp": 1644857997872,
     "user": {
      "displayName": "Jose Carlos Rangel Ortiz",
      "photoUrl": "https://lh3.googleusercontent.com/a-/AOh14Ggge4eUIKsbmR7KqChn7sIdC7TPKob-A-VIDpXltg=s64",
      "userId": "00140065837683286122"
     },
     "user_tz": 300
    },
    "id": "handy-bailey",
    "outputId": "bc75a32c-cc22-4dbc-f3f2-69b72fce404e"
   },
   "outputs": [
    {
     "data": {
      "text/plain": [
       "79.4"
      ]
     },
     "execution_count": 51,
     "metadata": {},
     "output_type": "execute_result"
    }
   ],
   "source": [
    "statistics.mean(grades)"
   ]
  },
  {
   "cell_type": "code",
   "execution_count": 52,
   "id": "senior-concentration",
   "metadata": {
    "colab": {
     "base_uri": "https://localhost:8080/"
    },
    "executionInfo": {
     "elapsed": 181,
     "status": "ok",
     "timestamp": 1644858011276,
     "user": {
      "displayName": "Jose Carlos Rangel Ortiz",
      "photoUrl": "https://lh3.googleusercontent.com/a-/AOh14Ggge4eUIKsbmR7KqChn7sIdC7TPKob-A-VIDpXltg=s64",
      "userId": "00140065837683286122"
     },
     "user_tz": 300
    },
    "id": "senior-concentration",
    "outputId": "551027d9-1f0b-47a6-c476-be26b23f6236"
   },
   "outputs": [
    {
     "data": {
      "text/plain": [
       "85"
      ]
     },
     "execution_count": 52,
     "metadata": {},
     "output_type": "execute_result"
    }
   ],
   "source": [
    "statistics.median(grades)"
   ]
  },
  {
   "cell_type": "code",
   "execution_count": 53,
   "id": "inside-scheduling",
   "metadata": {
    "colab": {
     "base_uri": "https://localhost:8080/"
    },
    "executionInfo": {
     "elapsed": 166,
     "status": "ok",
     "timestamp": 1644858014368,
     "user": {
      "displayName": "Jose Carlos Rangel Ortiz",
      "photoUrl": "https://lh3.googleusercontent.com/a-/AOh14Ggge4eUIKsbmR7KqChn7sIdC7TPKob-A-VIDpXltg=s64",
      "userId": "00140065837683286122"
     },
     "user_tz": 300
    },
    "id": "inside-scheduling",
    "outputId": "0ab2116b-b106-41ad-e0e4-1b0dd77db7fa"
   },
   "outputs": [
    {
     "data": {
      "text/plain": [
       "85"
      ]
     },
     "execution_count": 53,
     "metadata": {},
     "output_type": "execute_result"
    }
   ],
   "source": [
    "statistics.mode(grades)"
   ]
  },
  {
   "cell_type": "code",
   "execution_count": 54,
   "id": "inner-gross",
   "metadata": {
    "colab": {
     "base_uri": "https://localhost:8080/"
    },
    "executionInfo": {
     "elapsed": 171,
     "status": "ok",
     "timestamp": 1644858018677,
     "user": {
      "displayName": "Jose Carlos Rangel Ortiz",
      "photoUrl": "https://lh3.googleusercontent.com/a-/AOh14Ggge4eUIKsbmR7KqChn7sIdC7TPKob-A-VIDpXltg=s64",
      "userId": "00140065837683286122"
     },
     "user_tz": 300
    },
    "id": "inner-gross",
    "outputId": "427f14de-def0-4419-94b7-8c64061a8a70"
   },
   "outputs": [
    {
     "data": {
      "text/plain": [
       "[45, 85, 85, 89, 93]"
      ]
     },
     "execution_count": 54,
     "metadata": {},
     "output_type": "execute_result"
    }
   ],
   "source": [
    "sorted(grades)"
   ]
  },
  {
   "cell_type": "markdown",
   "id": "handmade-fortune",
   "metadata": {
    "id": "handmade-fortune"
   },
   "source": [
    "### Funciones"
   ]
  },
  {
   "cell_type": "code",
   "execution_count": 7,
   "id": "numerical-cooler",
   "metadata": {
    "id": "numerical-cooler"
   },
   "outputs": [],
   "source": [
    "#@title Funciones\n",
    "def square(number):\n",
    "    \"\"\"Calculate the square of number.\"\"\"\n",
    "    return number ** 2"
   ]
  },
  {
   "cell_type": "code",
   "execution_count": 8,
   "id": "swedish-temple",
   "metadata": {
    "id": "swedish-temple",
    "outputId": "9c8d831b-b331-48d9-b6b3-2e7dbf7d7d5f"
   },
   "outputs": [
    {
     "data": {
      "text/plain": [
       "6.25"
      ]
     },
     "execution_count": 8,
     "metadata": {},
     "output_type": "execute_result"
    }
   ],
   "source": [
    "square(2.5)"
   ]
  },
  {
   "cell_type": "code",
   "execution_count": 9,
   "id": "opening-skirt",
   "metadata": {
    "id": "opening-skirt"
   },
   "outputs": [
    {
     "name": "stdout",
     "output_type": "stream",
     "text": [
      "\u001b[1;31mSignature:\u001b[0m \u001b[0msquare\u001b[0m\u001b[1;33m(\u001b[0m\u001b[0mnumber\u001b[0m\u001b[1;33m)\u001b[0m\u001b[1;33m\u001b[0m\u001b[1;33m\u001b[0m\u001b[0m\n",
      "\u001b[1;31mSource:\u001b[0m   \n",
      "\u001b[1;32mdef\u001b[0m \u001b[0msquare\u001b[0m\u001b[1;33m(\u001b[0m\u001b[0mnumber\u001b[0m\u001b[1;33m)\u001b[0m\u001b[1;33m:\u001b[0m\u001b[1;33m\n",
      "\u001b[0m    \u001b[1;34m\"\"\"Calculate the square of number.\"\"\"\u001b[0m\u001b[1;33m\n",
      "\u001b[0m    \u001b[1;32mreturn\u001b[0m \u001b[0mnumber\u001b[0m \u001b[1;33m**\u001b[0m \u001b[1;36m2\u001b[0m\u001b[1;33m\u001b[0m\u001b[1;33m\u001b[0m\u001b[0m\n",
      "\u001b[1;31mFile:\u001b[0m      c:\\users\\jockr\\appdata\\local\\temp\\ipykernel_25204\\3267142203.py\n",
      "\u001b[1;31mType:\u001b[0m      function"
     ]
    }
   ],
   "source": [
    "square??"
   ]
  },
  {
   "cell_type": "code",
   "execution_count": 59,
   "id": "reported-oliver",
   "metadata": {
    "id": "reported-oliver"
   },
   "outputs": [],
   "source": [
    "### Función con valores por defecto"
   ]
  },
  {
   "cell_type": "code",
   "execution_count": 10,
   "id": "suffering-purse",
   "metadata": {
    "id": "suffering-purse"
   },
   "outputs": [],
   "source": [
    "def rectangle_area(length=2, width=3):\n",
    "    \"\"\"Return a rectangle's area.\"\"\"\n",
    "    return length * width"
   ]
  },
  {
   "cell_type": "code",
   "execution_count": 11,
   "id": "7bebafa4",
   "metadata": {},
   "outputs": [
    {
     "name": "stdout",
     "output_type": "stream",
     "text": [
      "\u001b[1;31mSignature:\u001b[0m \u001b[0mrectangle_area\u001b[0m\u001b[1;33m(\u001b[0m\u001b[0mlength\u001b[0m\u001b[1;33m=\u001b[0m\u001b[1;36m2\u001b[0m\u001b[1;33m,\u001b[0m \u001b[0mwidth\u001b[0m\u001b[1;33m=\u001b[0m\u001b[1;36m3\u001b[0m\u001b[1;33m)\u001b[0m\u001b[1;33m\u001b[0m\u001b[1;33m\u001b[0m\u001b[0m\n",
      "\u001b[1;31mSource:\u001b[0m   \n",
      "\u001b[1;32mdef\u001b[0m \u001b[0mrectangle_area\u001b[0m\u001b[1;33m(\u001b[0m\u001b[0mlength\u001b[0m\u001b[1;33m=\u001b[0m\u001b[1;36m2\u001b[0m\u001b[1;33m,\u001b[0m \u001b[0mwidth\u001b[0m\u001b[1;33m=\u001b[0m\u001b[1;36m3\u001b[0m\u001b[1;33m)\u001b[0m\u001b[1;33m:\u001b[0m\u001b[1;33m\n",
      "\u001b[0m    \u001b[1;34m\"\"\"Return a rectangle's area.\"\"\"\u001b[0m\u001b[1;33m\n",
      "\u001b[0m    \u001b[1;32mreturn\u001b[0m \u001b[0mlength\u001b[0m \u001b[1;33m*\u001b[0m \u001b[0mwidth\u001b[0m\u001b[1;33m\u001b[0m\u001b[1;33m\u001b[0m\u001b[0m\n",
      "\u001b[1;31mFile:\u001b[0m      c:\\users\\jockr\\appdata\\local\\temp\\ipykernel_25204\\928568942.py\n",
      "\u001b[1;31mType:\u001b[0m      function"
     ]
    }
   ],
   "source": [
    "rectangle_area??"
   ]
  },
  {
   "cell_type": "code",
   "execution_count": 12,
   "id": "different-bangladesh",
   "metadata": {
    "id": "different-bangladesh",
    "outputId": "5d32b08b-b2a4-4108-dfc1-2018b5aa089b"
   },
   "outputs": [
    {
     "data": {
      "text/plain": [
       "30"
      ]
     },
     "execution_count": 12,
     "metadata": {},
     "output_type": "execute_result"
    }
   ],
   "source": [
    "rectangle_area(10)"
   ]
  },
  {
   "cell_type": "code",
   "execution_count": 13,
   "id": "casual-moisture",
   "metadata": {
    "id": "casual-moisture",
    "outputId": "b9290e20-d353-4322-9231-1c23b9e5894c"
   },
   "outputs": [
    {
     "data": {
      "text/plain": [
       "50"
      ]
     },
     "execution_count": 13,
     "metadata": {},
     "output_type": "execute_result"
    }
   ],
   "source": [
    "rectangle_area(10, 5)"
   ]
  },
  {
   "cell_type": "markdown",
   "id": "ongoing-celebrity",
   "metadata": {
    "id": "ongoing-celebrity"
   },
   "source": [
    "### Importar a un mayor nivel"
   ]
  },
  {
   "cell_type": "code",
   "execution_count": 14,
   "id": "western-zimbabwe",
   "metadata": {
    "id": "western-zimbabwe"
   },
   "outputs": [],
   "source": [
    "from math import ceil, floor"
   ]
  },
  {
   "cell_type": "code",
   "execution_count": 15,
   "id": "accessory-canadian",
   "metadata": {
    "id": "accessory-canadian",
    "outputId": "66a0c33a-ac64-4a28-955a-2a2f68d1526b"
   },
   "outputs": [
    {
     "data": {
      "text/plain": [
       "11"
      ]
     },
     "execution_count": 15,
     "metadata": {},
     "output_type": "execute_result"
    }
   ],
   "source": [
    "ceil(10.3)"
   ]
  },
  {
   "cell_type": "code",
   "execution_count": 16,
   "id": "retained-sacramento",
   "metadata": {
    "id": "retained-sacramento",
    "outputId": "1498ce06-a2cf-4f74-f7c1-f998821c11a8"
   },
   "outputs": [
    {
     "data": {
      "text/plain": [
       "10"
      ]
     },
     "execution_count": 16,
     "metadata": {},
     "output_type": "execute_result"
    }
   ],
   "source": [
    "floor(10.7)"
   ]
  },
  {
   "cell_type": "code",
   "execution_count": 17,
   "id": "academic-audience",
   "metadata": {
    "id": "academic-audience"
   },
   "outputs": [],
   "source": [
    "### Renombrando módulos "
   ]
  },
  {
   "cell_type": "code",
   "execution_count": 18,
   "id": "sitting-burton",
   "metadata": {
    "id": "sitting-burton"
   },
   "outputs": [],
   "source": [
    "import statistics as stats"
   ]
  },
  {
   "cell_type": "code",
   "execution_count": 19,
   "id": "absolute-dress",
   "metadata": {
    "id": "absolute-dress"
   },
   "outputs": [],
   "source": [
    "grades = [85, 93, 45, 87, 93]"
   ]
  },
  {
   "cell_type": "code",
   "execution_count": 20,
   "id": "median-calculator",
   "metadata": {
    "id": "median-calculator",
    "outputId": "b9ae909a-f7e6-472d-b91a-7c4cba309900"
   },
   "outputs": [
    {
     "data": {
      "text/plain": [
       "80.6"
      ]
     },
     "execution_count": 20,
     "metadata": {},
     "output_type": "execute_result"
    }
   ],
   "source": [
    "stats.mean(grades)"
   ]
  }
 ],
 "metadata": {
  "colab": {
   "name": "AA_IntroPython .ipynb",
   "provenance": []
  },
  "kernelspec": {
   "display_name": "Python 3 (ipykernel)",
   "language": "python",
   "name": "python3"
  },
  "language_info": {
   "codemirror_mode": {
    "name": "ipython",
    "version": 3
   },
   "file_extension": ".py",
   "mimetype": "text/x-python",
   "name": "python",
   "nbconvert_exporter": "python",
   "pygments_lexer": "ipython3",
   "version": "3.10.10"
  }
 },
 "nbformat": 4,
 "nbformat_minor": 5
}
