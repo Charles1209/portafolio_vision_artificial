{
 "cells": [
  {
   "cell_type": "markdown",
   "id": "c5c3f8c9",
   "metadata": {},
   "source": [
    "# Conjuntos"
   ]
  },
  {
   "cell_type": "code",
   "execution_count": 1,
   "id": "cf0d115a",
   "metadata": {},
   "outputs": [
    {
     "name": "stdout",
     "output_type": "stream",
     "text": [
      "3\n"
     ]
    }
   ],
   "source": [
    "set_countries = {'col', 'mex', 'bol'}\n",
    "size = len(set_countries)\n",
    "print(size)"
   ]
  },
  {
   "cell_type": "code",
   "execution_count": 2,
   "id": "e20b4876",
   "metadata": {},
   "outputs": [
    {
     "name": "stdout",
     "output_type": "stream",
     "text": [
      "True\n"
     ]
    }
   ],
   "source": [
    "print('col' in set_countries)"
   ]
  },
  {
   "cell_type": "code",
   "execution_count": 3,
   "id": "d5e9de34",
   "metadata": {},
   "outputs": [
    {
     "name": "stdout",
     "output_type": "stream",
     "text": [
      "{'col', 'bol', 'pe', 'mex'}\n"
     ]
    }
   ],
   "source": [
    "# add\n",
    "set_countries.add('pe')\n",
    "print(set_countries)"
   ]
  },
  {
   "cell_type": "code",
   "execution_count": 5,
   "id": "95f834ce",
   "metadata": {},
   "outputs": [
    {
     "name": "stdout",
     "output_type": "stream",
     "text": [
      "{'ecua', 'pe', 'bol', 'ar', 'col', 'mex'}\n"
     ]
    }
   ],
   "source": [
    "# update\n",
    "set_countries.update({'ar', 'ecua', 'pe'})\n",
    "print(set_countries)"
   ]
  },
  {
   "cell_type": "code",
   "execution_count": 6,
   "id": "c2376c69",
   "metadata": {},
   "outputs": [
    {
     "name": "stdout",
     "output_type": "stream",
     "text": [
      "{'ecua', 'pe', 'bol', 'ar', 'mex'}\n"
     ]
    }
   ],
   "source": [
    "# remove\n",
    "set_countries.remove('col')\n",
    "print(set_countries)"
   ]
  },
  {
   "cell_type": "code",
   "execution_count": 7,
   "id": "b70faf22",
   "metadata": {},
   "outputs": [
    {
     "name": "stdout",
     "output_type": "stream",
     "text": [
      "{'ecua', 'pe', 'bol', 'mex'}\n"
     ]
    }
   ],
   "source": [
    "set_countries.remove('ar')\n",
    "set_countries.discard('arg')\n",
    "print(set_countries)"
   ]
  },
  {
   "cell_type": "code",
   "execution_count": 8,
   "id": "61e31c1f",
   "metadata": {},
   "outputs": [
    {
     "name": "stdout",
     "output_type": "stream",
     "text": [
      "{'arg', 'ecua', 'pe', 'bol', 'mex'}\n"
     ]
    }
   ],
   "source": [
    "set_countries.add('arg')\n",
    "print(set_countries)"
   ]
  },
  {
   "cell_type": "code",
   "execution_count": 9,
   "id": "c36593a3",
   "metadata": {},
   "outputs": [
    {
     "name": "stdout",
     "output_type": "stream",
     "text": [
      "set()\n",
      "0\n"
     ]
    }
   ],
   "source": [
    "set_countries.clear()\n",
    "print(set_countries)\n",
    "print(len(set_countries))"
   ]
  },
  {
   "cell_type": "markdown",
   "id": "c1979bb2",
   "metadata": {},
   "source": [
    "# Operaciones con conjuntos"
   ]
  },
  {
   "cell_type": "code",
   "execution_count": 11,
   "id": "4787a7b8",
   "metadata": {},
   "outputs": [],
   "source": [
    "set_a = {'col', 'mex', 'bol'}\n",
    "set_b = {'pe', 'bol'}\n"
   ]
  },
  {
   "cell_type": "code",
   "execution_count": 12,
   "id": "6c20dfe2",
   "metadata": {},
   "outputs": [
    {
     "name": "stdout",
     "output_type": "stream",
     "text": [
      "{'pe', 'bol', 'col', 'mex'}\n",
      "{'pe', 'bol', 'col', 'mex'}\n"
     ]
    }
   ],
   "source": [
    "set_c = set_a.union(set_b)\n",
    "print(set_c)\n",
    "print(set_a | set_b)\n"
   ]
  },
  {
   "cell_type": "code",
   "execution_count": 13,
   "id": "44611018",
   "metadata": {},
   "outputs": [
    {
     "name": "stdout",
     "output_type": "stream",
     "text": [
      "{'bol'}\n",
      "{'bol'}\n"
     ]
    }
   ],
   "source": [
    "set_c = set_a.intersection(set_b)\n",
    "print(set_c)\n",
    "print(set_a & set_b)\n"
   ]
  },
  {
   "cell_type": "code",
   "execution_count": 14,
   "id": "584b6470",
   "metadata": {},
   "outputs": [
    {
     "name": "stdout",
     "output_type": "stream",
     "text": [
      "{'col', 'mex'}\n",
      "{'col', 'mex'}\n"
     ]
    }
   ],
   "source": [
    "set_c = set_a.difference(set_b)\n",
    "print(set_c)\n",
    "print(set_a - set_b)\n"
   ]
  },
  {
   "cell_type": "code",
   "execution_count": 15,
   "id": "e91cc78e",
   "metadata": {},
   "outputs": [
    {
     "name": "stdout",
     "output_type": "stream",
     "text": [
      "{'col', 'mex', 'pe'}\n",
      "{'col', 'mex', 'pe'}\n"
     ]
    }
   ],
   "source": [
    "set_c = set_a.symmetric_difference(set_b)\n",
    "print(set_c)\n",
    "print(set_a ^ set_b)"
   ]
  }
 ],
 "metadata": {
  "kernelspec": {
   "display_name": "Python 3 (ipykernel)",
   "language": "python",
   "name": "python3"
  },
  "language_info": {
   "codemirror_mode": {
    "name": "ipython",
    "version": 3
   },
   "file_extension": ".py",
   "mimetype": "text/x-python",
   "name": "python",
   "nbconvert_exporter": "python",
   "pygments_lexer": "ipython3",
   "version": "3.10.10"
  }
 },
 "nbformat": 4,
 "nbformat_minor": 5
}
