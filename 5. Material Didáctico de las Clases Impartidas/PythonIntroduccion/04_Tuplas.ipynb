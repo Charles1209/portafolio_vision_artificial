{
 "cells": [
  {
   "cell_type": "markdown",
   "id": "1c87d511",
   "metadata": {},
   "source": [
    "# Tuplas en Python"
   ]
  },
  {
   "cell_type": "code",
   "execution_count": 1,
   "id": "1d15a0ec",
   "metadata": {},
   "outputs": [
    {
     "name": "stdout",
     "output_type": "stream",
     "text": [
      "(1, 2, 3, 5)\n",
      "0 => 1\n",
      "-1 => 5\n",
      "<class 'tuple'>\n"
     ]
    }
   ],
   "source": [
    "numbers = (1, 2, 3, 5)\n",
    "strings = ('nico', 'zule', 'santi', 'nico')\n",
    "print(numbers)\n",
    "print('0 =>', numbers[0])\n",
    "print('-1 =>', numbers[-1])\n",
    "print(type(numbers))\n"
   ]
  },
  {
   "cell_type": "code",
   "execution_count": 2,
   "id": "58093f0b",
   "metadata": {},
   "outputs": [
    {
     "name": "stdout",
     "output_type": "stream",
     "text": [
      "('nico', 'zule', 'santi', 'nico')\n",
      "<class 'tuple'>\n"
     ]
    }
   ],
   "source": [
    "print(strings)\n",
    "print(type(strings))\n"
   ]
  },
  {
   "cell_type": "code",
   "execution_count": null,
   "id": "c1057a06",
   "metadata": {},
   "outputs": [],
   "source": [
    "# CRUD\n",
    "# numbers.append(10)\n",
    "print(numbers)\n",
    "# numbers[1] = 'change'\n",
    "\n",
    "print(strings)\n",
    "print(strings.index('zule'))\n",
    "print(strings.count('nico'))\n"
   ]
  },
  {
   "cell_type": "code",
   "execution_count": 3,
   "id": "700fd7c1",
   "metadata": {},
   "outputs": [
    {
     "name": "stdout",
     "output_type": "stream",
     "text": [
      "('nico', 'zule', 'santi', 'nico')\n",
      "1\n",
      "2\n"
     ]
    }
   ],
   "source": [
    "print(strings)\n",
    "print(strings.index('zule'))\n",
    "print(strings.count('nico'))\n"
   ]
  },
  {
   "cell_type": "code",
   "execution_count": 4,
   "id": "bb2a2486",
   "metadata": {},
   "outputs": [
    {
     "name": "stdout",
     "output_type": "stream",
     "text": [
      "['nico', 'zule', 'santi', 'nico']\n",
      "<class 'list'>\n"
     ]
    }
   ],
   "source": [
    "my_list = list(strings)\n",
    "print(my_list)\n",
    "print(type(my_list))\n"
   ]
  },
  {
   "cell_type": "code",
   "execution_count": 5,
   "id": "db0c482a",
   "metadata": {},
   "outputs": [
    {
     "name": "stdout",
     "output_type": "stream",
     "text": [
      "['nico', 'juli', 'santi', 'nico']\n"
     ]
    }
   ],
   "source": [
    "my_list[1] = 'juli'\n",
    "print(my_list)"
   ]
  },
  {
   "cell_type": "code",
   "execution_count": 6,
   "id": "741aa835",
   "metadata": {},
   "outputs": [
    {
     "name": "stdout",
     "output_type": "stream",
     "text": [
      "('nico', 'juli', 'santi', 'nico')\n"
     ]
    }
   ],
   "source": [
    "my_tuple = tuple(my_list)\n",
    "print(my_tuple)"
   ]
  },
  {
   "cell_type": "code",
   "execution_count": null,
   "id": "2bd23e1a",
   "metadata": {},
   "outputs": [],
   "source": []
  },
  {
   "cell_type": "code",
   "execution_count": null,
   "id": "0936c718",
   "metadata": {},
   "outputs": [],
   "source": []
  }
 ],
 "metadata": {
  "kernelspec": {
   "display_name": "Python 3 (ipykernel)",
   "language": "python",
   "name": "python3"
  },
  "language_info": {
   "codemirror_mode": {
    "name": "ipython",
    "version": 3
   },
   "file_extension": ".py",
   "mimetype": "text/x-python",
   "name": "python",
   "nbconvert_exporter": "python",
   "pygments_lexer": "ipython3",
   "version": "3.9.12"
  }
 },
 "nbformat": 4,
 "nbformat_minor": 5
}
