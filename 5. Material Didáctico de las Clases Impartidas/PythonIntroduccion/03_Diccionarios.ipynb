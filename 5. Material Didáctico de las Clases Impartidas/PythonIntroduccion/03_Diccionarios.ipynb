{
 "cells": [
  {
   "cell_type": "code",
   "execution_count": 2,
   "id": "7fe4d145",
   "metadata": {},
   "outputs": [
    {
     "name": "stdout",
     "output_type": "stream",
     "text": [
      "[('nico', 12), ('zule', 56), ('santi', 98)]\n"
     ]
    }
   ],
   "source": [
    "names = ['nico', 'zule', 'santi']\n",
    "ages = [12, 56, 98]\n",
    "\n",
    "print(list(zip(names, ages)))\n",
    "\n"
   ]
  },
  {
   "cell_type": "markdown",
   "id": "866bb069",
   "metadata": {},
   "source": [
    "# Creación de Diccionario a partir de 2 listas"
   ]
  },
  {
   "cell_type": "code",
   "execution_count": 3,
   "id": "63c3de2f",
   "metadata": {},
   "outputs": [
    {
     "name": "stdout",
     "output_type": "stream",
     "text": [
      "{'nico': 12, 'zule': 56, 'santi': 98}\n"
     ]
    }
   ],
   "source": [
    "new_dict = {name: age for (name, age) in zip(names, ages)}\n",
    "print(new_dict)"
   ]
  },
  {
   "cell_type": "markdown",
   "id": "300074f8",
   "metadata": {},
   "source": [
    "# Creación de Diccionario utilizando ciclo for"
   ]
  },
  {
   "cell_type": "code",
   "execution_count": 21,
   "id": "1e7481a4",
   "metadata": {},
   "outputs": [
    {
     "name": "stdout",
     "output_type": "stream",
     "text": [
      "{'col': 32, 'mex': 40, 'bol': 21, 'pe': 54}\n"
     ]
    }
   ],
   "source": [
    "import random\n",
    "countries = ['col', 'mex', 'bol', 'pe']\n",
    "\n",
    "population_v2 = { country: random.randint(1, 100)  for country in countries}\n",
    "print(population_v2)"
   ]
  },
  {
   "cell_type": "code",
   "execution_count": 22,
   "id": "c7e058b6",
   "metadata": {},
   "outputs": [
    {
     "name": "stdout",
     "output_type": "stream",
     "text": [
      "{'pe': 54}\n"
     ]
    }
   ],
   "source": [
    "result = { country: population for (country, population) in population_v2.items() if population > 50 }\n",
    "print(result)\n",
    "\n"
   ]
  },
  {
   "cell_type": "markdown",
   "id": "85230d6e",
   "metadata": {},
   "source": [
    "# Creacion de Diccionario utilizando ciclo for y condición"
   ]
  },
  {
   "cell_type": "code",
   "execution_count": 23,
   "id": "261914c6",
   "metadata": {},
   "outputs": [
    {
     "name": "stdout",
     "output_type": "stream",
     "text": [
      "{'o': 'O', 'a': 'A', 'i': 'I'}\n"
     ]
    }
   ],
   "source": [
    "text = 'Hola, soy Nicolas'\n",
    "unique = { c: c.upper() for c in text if c in 'aeiou' }\n",
    "print(unique)"
   ]
  },
  {
   "cell_type": "markdown",
   "id": "2f7c5f22",
   "metadata": {},
   "source": [
    "# Interacción con Diccionarios"
   ]
  },
  {
   "cell_type": "code",
   "execution_count": 24,
   "id": "6ec61d32",
   "metadata": {},
   "outputs": [
    {
     "name": "stdout",
     "output_type": "stream",
     "text": [
      "<class 'dict'>\n"
     ]
    }
   ],
   "source": [
    "my_dict = {}\n",
    "print(type(my_dict))\n",
    "\n",
    "my_dict = {\n",
    "  'avion': \"bla bla bla\",\n",
    "  'name': 'Nicolas',\n",
    "  'last_name': 'Molina Monroy',\n",
    "  'age': 87\n",
    "}\n",
    "\n"
   ]
  },
  {
   "cell_type": "code",
   "execution_count": 25,
   "id": "66fe1763",
   "metadata": {},
   "outputs": [
    {
     "name": "stdout",
     "output_type": "stream",
     "text": [
      "{'avion': 'bla bla bla', 'name': 'Nicolas', 'last_name': 'Molina Monroy', 'age': 87}\n",
      "4\n"
     ]
    }
   ],
   "source": [
    "print(my_dict)\n",
    "print(len(my_dict))\n",
    "\n"
   ]
  },
  {
   "cell_type": "code",
   "execution_count": 26,
   "id": "abf5d98d",
   "metadata": {},
   "outputs": [
    {
     "name": "stdout",
     "output_type": "stream",
     "text": [
      "87\n",
      "Molina Monroy\n",
      "87\n"
     ]
    }
   ],
   "source": [
    "print(my_dict['age'])\n",
    "print(my_dict['last_name'])\n",
    "print(my_dict.get('age'))\n",
    "\n"
   ]
  },
  {
   "cell_type": "code",
   "execution_count": 27,
   "id": "8e87c94a",
   "metadata": {},
   "outputs": [
    {
     "name": "stdout",
     "output_type": "stream",
     "text": [
      "True\n",
      "False\n"
     ]
    }
   ],
   "source": [
    "print('avion' in my_dict)\n",
    "print('otroqueno' in my_dict)"
   ]
  },
  {
   "cell_type": "markdown",
   "id": "f2a4af1c",
   "metadata": {},
   "source": [
    "# Acciones en el diccionario"
   ]
  },
  {
   "cell_type": "code",
   "execution_count": 28,
   "id": "23065efe",
   "metadata": {},
   "outputs": [
    {
     "name": "stdout",
     "output_type": "stream",
     "text": [
      "{'name': 'nico', 'last_name': 'molina', 'langs': ['python', 'javascript'], 'age': 99}\n"
     ]
    }
   ],
   "source": [
    "person = {\n",
    "  'name': 'nico',\n",
    "  'last_name': 'molina',\n",
    "  'langs': ['python', 'javascript'],\n",
    "  'age': 99\n",
    "}\n",
    "\n",
    "print(person)\n",
    "\n"
   ]
  },
  {
   "cell_type": "code",
   "execution_count": 29,
   "id": "c6de2c02",
   "metadata": {},
   "outputs": [
    {
     "name": "stdout",
     "output_type": "stream",
     "text": [
      "{'name': 'santi', 'last_name': 'molina', 'langs': ['python', 'javascript', 'rust'], 'age': 49}\n"
     ]
    }
   ],
   "source": [
    "person['name'] = 'santi'\n",
    "person['age'] -= 50\n",
    "person['langs'].append('rust')\n",
    "print(person)\n"
   ]
  },
  {
   "cell_type": "code",
   "execution_count": 30,
   "id": "03111056",
   "metadata": {},
   "outputs": [
    {
     "name": "stdout",
     "output_type": "stream",
     "text": [
      "{'name': 'santi', 'langs': ['python', 'javascript', 'rust']}\n"
     ]
    }
   ],
   "source": [
    "del person['last_name']\n",
    "person.pop('age')\n",
    "print(person)\n"
   ]
  },
  {
   "cell_type": "code",
   "execution_count": 31,
   "id": "2a98f1d2",
   "metadata": {},
   "outputs": [
    {
     "name": "stdout",
     "output_type": "stream",
     "text": [
      "items\n",
      "dict_items([('name', 'santi'), ('langs', ['python', 'javascript', 'rust'])])\n"
     ]
    }
   ],
   "source": [
    "print('items')\n",
    "print(person.items())\n"
   ]
  },
  {
   "cell_type": "code",
   "execution_count": 32,
   "id": "01afb7a3",
   "metadata": {},
   "outputs": [
    {
     "name": "stdout",
     "output_type": "stream",
     "text": [
      "keys\n",
      "dict_keys(['name', 'langs'])\n"
     ]
    }
   ],
   "source": [
    "print('keys')\n",
    "print(person.keys())\n"
   ]
  },
  {
   "cell_type": "code",
   "execution_count": 33,
   "id": "2592d75e",
   "metadata": {},
   "outputs": [
    {
     "name": "stdout",
     "output_type": "stream",
     "text": [
      "values\n",
      "dict_values(['santi', ['python', 'javascript', 'rust']])\n"
     ]
    }
   ],
   "source": [
    "print('values')\n",
    "print(person.values())"
   ]
  },
  {
   "cell_type": "code",
   "execution_count": null,
   "id": "95559c41",
   "metadata": {},
   "outputs": [],
   "source": []
  }
 ],
 "metadata": {
  "kernelspec": {
   "display_name": "Python 3 (ipykernel)",
   "language": "python",
   "name": "python3"
  },
  "language_info": {
   "codemirror_mode": {
    "name": "ipython",
    "version": 3
   },
   "file_extension": ".py",
   "mimetype": "text/x-python",
   "name": "python",
   "nbconvert_exporter": "python",
   "pygments_lexer": "ipython3",
   "version": "3.9.12"
  }
 },
 "nbformat": 4,
 "nbformat_minor": 5
}
