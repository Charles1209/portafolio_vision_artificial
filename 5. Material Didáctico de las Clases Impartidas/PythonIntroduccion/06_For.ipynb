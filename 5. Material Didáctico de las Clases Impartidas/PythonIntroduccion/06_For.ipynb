{
 "cells": [
  {
   "cell_type": "markdown",
   "id": "91caed25",
   "metadata": {},
   "source": [
    "# Ciclo FOR"
   ]
  },
  {
   "cell_type": "code",
   "execution_count": 1,
   "id": "48c714b8",
   "metadata": {},
   "outputs": [
    {
     "name": "stdout",
     "output_type": "stream",
     "text": [
      "1\n",
      "2\n",
      "3\n",
      "4\n",
      "5\n",
      "6\n",
      "7\n",
      "8\n",
      "9\n",
      "10\n",
      "11\n",
      "12\n",
      "13\n",
      "14\n",
      "15\n",
      "16\n",
      "17\n",
      "18\n",
      "19\n",
      "20\n"
     ]
    }
   ],
   "source": [
    "for element in range(1, 21):\n",
    "  print(element)\n"
   ]
  },
  {
   "cell_type": "code",
   "execution_count": 2,
   "id": "a68bd933",
   "metadata": {},
   "outputs": [
    {
     "name": "stdout",
     "output_type": "stream",
     "text": [
      "23\n",
      "45\n",
      "67\n",
      "89\n",
      "43\n"
     ]
    }
   ],
   "source": [
    "my_list = [23, 45, 67, 89 ,43]\n",
    "for element in my_list:\n",
    "  print(element)\n"
   ]
  },
  {
   "cell_type": "code",
   "execution_count": 3,
   "id": "453a65bd",
   "metadata": {},
   "outputs": [
    {
     "name": "stdout",
     "output_type": "stream",
     "text": [
      "nico\n",
      "juli\n",
      "santi\n"
     ]
    }
   ],
   "source": [
    "my_tuple = ('nico', 'juli', 'santi')\n",
    "for element in my_tuple:\n",
    "  print(element)\n",
    "\n",
    "\n"
   ]
  },
  {
   "cell_type": "code",
   "execution_count": 4,
   "id": "a7cdea24",
   "metadata": {},
   "outputs": [
    {
     "name": "stdout",
     "output_type": "stream",
     "text": [
      "name => Camisa\n",
      "price => 100\n",
      "stock => 89\n"
     ]
    }
   ],
   "source": [
    "product = {\n",
    "  'name': 'Camisa',\n",
    "  'price': 100,\n",
    "  'stock': 89\n",
    "}\n",
    "\n",
    "for key in product:\n",
    "  print(key, '=>', product[key])\n",
    "\n"
   ]
  },
  {
   "cell_type": "code",
   "execution_count": 5,
   "id": "40bf89dc",
   "metadata": {},
   "outputs": [
    {
     "name": "stdout",
     "output_type": "stream",
     "text": [
      "name => Camisa\n",
      "price => 100\n",
      "stock => 89\n"
     ]
    }
   ],
   "source": [
    "for key, value in product.items():\n",
    "  print(key, '=>', value)\n",
    "\n"
   ]
  },
  {
   "cell_type": "code",
   "execution_count": 6,
   "id": "e707bb89",
   "metadata": {},
   "outputs": [
    {
     "name": "stdout",
     "output_type": "stream",
     "text": [
      "name => nico\n",
      "name => zule\n",
      "name => santi\n"
     ]
    }
   ],
   "source": [
    "people = [\n",
    "  {\n",
    "    'name': 'nico',\n",
    "    'age': 34\n",
    "  },\n",
    "  {\n",
    "    'name': 'zule',\n",
    "    'age': 45\n",
    "  },\n",
    "  {\n",
    "    'name': 'santi',\n",
    "    'age': 4\n",
    "  }\n",
    "]\n",
    "\n",
    "for person in people:\n",
    "  print('name =>', person['name'])"
   ]
  }
 ],
 "metadata": {
  "kernelspec": {
   "display_name": "Python 3 (ipykernel)",
   "language": "python",
   "name": "python3"
  },
  "language_info": {
   "codemirror_mode": {
    "name": "ipython",
    "version": 3
   },
   "file_extension": ".py",
   "mimetype": "text/x-python",
   "name": "python",
   "nbconvert_exporter": "python",
   "pygments_lexer": "ipython3",
   "version": "3.9.12"
  }
 },
 "nbformat": 4,
 "nbformat_minor": 5
}
